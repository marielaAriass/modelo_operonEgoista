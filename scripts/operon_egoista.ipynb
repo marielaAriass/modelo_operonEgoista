{
 "cells": [
  {
   "cell_type": "code",
   "execution_count": 291,
   "id": "731e9b60",
   "metadata": {},
   "outputs": [],
   "source": [
    "import numpy as np\n",
    "import random\n",
    "import matplotlib.pyplot as plt"
   ]
  },
  {
   "cell_type": "markdown",
   "id": "455cd1f9",
   "metadata": {},
   "source": [
    "### Parámetros"
   ]
  },
  {
   "cell_type": "code",
   "execution_count": 292,
   "id": "1fb8ec7b",
   "metadata": {},
   "outputs": [],
   "source": [
    "# Iniciar la poblacion\n",
    "M = 10 #kb. Tamaño del genoma\n",
    "g = 4 # Genes en la via de interes\n",
    "num_especies = 10 #Num de especies para iniciar la poblacion\n",
    "\n",
    "# Reorganizar el genoma por cada especie\n",
    "rho = 0.01 # probabilidad de reacomodo\n",
    "\n",
    "# Destruir función de especie positiva \n",
    "lambd = 0.001 # probabilidad de perdida de la funcion\n",
    "\n",
    "# Transferencia horizontal\n",
    "tau0 = 0.01 # probabilidad maxima de transferencia horizontal\n",
    "alpha = 0.004\n",
    "\n",
    "#Simulación\n",
    "num_iteraciones = 500 #00\n",
    "\n",
    "e = 25 #kb.  tolerancia al equilibrio entre el origen y el término "
   ]
  },
  {
   "cell_type": "markdown",
   "id": "364d9442",
   "metadata": {},
   "source": [
    "### Iniciar la población"
   ]
  },
  {
   "cell_type": "code",
   "execution_count": 293,
   "id": "be2619b1",
   "metadata": {},
   "outputs": [
    {
     "data": {
      "text/plain": [
       "[[0, 1, 0, 0, 0, 0, 1, 1, 0, 1],\n",
       " [1, 0, 0, 1, 0, 1, 1, 0, 0, 0],\n",
       " [0, 0, 0, 1, 0, 1, 0, 1, 0, 1],\n",
       " [0, 0, 1, 1, 0, 1, 0, 1, 0, 0],\n",
       " [0, 1, 0, 0, 0, 0, 0, 1, 1, 1]]"
      ]
     },
     "execution_count": 293,
     "metadata": {},
     "output_type": "execute_result"
    }
   ],
   "source": [
    "# Iniciar la población con 10 especies positivas\n",
    "# Las especies positivas deben de tener g 1's en el genoma\n",
    "# Los demás serán 0's\n",
    "\n",
    "def inicializar_poblacion(M, num_especies, g):\n",
    "    especies_positivas = []\n",
    "    for _ in range(num_especies):\n",
    "        genoma = [0] * M\n",
    "        genes_asignados = 0\n",
    "\n",
    "        while genes_asignados < g:\n",
    "            indice_aleatorio = random.randint(0, M - 1)\n",
    "            if genoma[indice_aleatorio] == 0:\n",
    "                genoma[indice_aleatorio] = 1\n",
    "                genes_asignados += 1\n",
    "\n",
    "        especies_positivas.append(genoma)\n",
    "\n",
    "    return especies_positivas\n",
    "\n",
    "poblacion = inicializar_poblacion(M, num_especies, g)[:5]\n",
    "poblacion"
   ]
  },
  {
   "cell_type": "markdown",
   "id": "5554f2e6",
   "metadata": {},
   "source": [
    "### Reorganizar la población"
   ]
  },
  {
   "cell_type": "code",
   "execution_count": 159,
   "id": "122aef4a",
   "metadata": {
    "scrolled": false
   },
   "outputs": [
    {
     "data": {
      "text/plain": [
       "[[0, 1, 0, 0, 0, 0, 1, 1, 1, 0],\n",
       " [0, 0, 0, 1, 0, 1, 0, 0, 1, 1],\n",
       " [0, 0, 1, 0, 0, 1, 0, 1, 0, 1],\n",
       " [0, 0, 1, 0, 0, 0, 1, 1, 1, 0],\n",
       " [0, 0, 0, 1, 1, 0, 1, 1, 0, 0]]"
      ]
     },
     "execution_count": 159,
     "metadata": {},
     "output_type": "execute_result"
    }
   ],
   "source": [
    "# CORREGIR TRANSLOCACION\n",
    "# Tenemos la proba rho = 0.01 y la poblacion anterior. \n",
    "# Para cada especie de la poblacion lo siguiente:\n",
    "# -Escoger un numero aleatorio entre 0 y 1\n",
    "#   -si este es mayor o igual a rho, el reacomodo sucede\n",
    "# Escoger dos posiciones aleatorias (que no sean la misma)\n",
    "# Cambiar los genes entre las posiciones\n",
    "# tenemos nuestra nueva poblacion\n",
    "# Las posiciones pueden ser ambas con 0´s por lo que no se notaria el cambio \n",
    "\n",
    "def reorganizar_genoma(poblacion, rho):\n",
    "    nueva_poblacion = []\n",
    "    for especie in poblacion:\n",
    "        aleatorio = random.uniform(0, 1)\n",
    "\n",
    "        if aleatorio >= rho:\n",
    "            pos1 = random.randint(0, len(especie)-1)\n",
    "            pos2 = random.randint(0, len(especie)-1)\n",
    "\n",
    "            while pos1 == pos2: # Este ciclo es para que no sea la misma posicion seleccionada\n",
    "                pos2 = random.randint(0, len(especie) - 1)\n",
    "\n",
    "            especie[pos1], especie[pos2] = especie[pos2], especie[pos1]\n",
    "\n",
    "        nueva_poblacion.append(especie)\n",
    "\n",
    "    return nueva_poblacion\n",
    "\n",
    "#rho = 0\n",
    "poblacion_reorganizada = reorganizar_genoma(poblacion, rho)\n",
    "poblacion_reorganizada"
   ]
  },
  {
   "cell_type": "code",
   "execution_count": 294,
   "id": "8d4d2c77",
   "metadata": {},
   "outputs": [
    {
     "name": "stdout",
     "output_type": "stream",
     "text": [
      "Original: [0, 1, 0, 0, 0, 0, 1, 1, 0, 1]\n",
      "Posiciones seleccionadas: 8 y 6\n",
      "Modificado: [0, 1, 0, 0, 0, 0, 1, 1, 0, 1]\n",
      "Original: [1, 0, 0, 1, 0, 1, 1, 0, 0, 0]\n",
      "Posiciones seleccionadas: 9 y 3\n",
      "Modificado: [1, 0, 0, 0, 1, 1, 0, 0, 1, 0]\n",
      "Original: [0, 0, 0, 1, 0, 1, 0, 1, 0, 1]\n",
      "Posiciones seleccionadas: 1 y 5\n",
      "Modificado: [0, 1, 0, 0, 1, 0, 0, 1, 0, 1]\n",
      "Original: [0, 0, 1, 1, 0, 1, 0, 1, 0, 0]\n",
      "Posiciones seleccionadas: 1 y 6\n",
      "Modificado: [0, 0, 0, 1, 1, 0, 1, 1, 0, 0]\n",
      "Original: [0, 1, 0, 0, 0, 0, 0, 1, 1, 1]\n",
      "Posiciones seleccionadas: 5 y 6\n",
      "Modificado: [0, 1, 0, 0, 0, 0, 0, 1, 1, 1]\n"
     ]
    },
    {
     "data": {
      "text/plain": [
       "[[0, 1, 0, 0, 0, 0, 1, 1, 0, 1],\n",
       " [1, 0, 0, 0, 1, 1, 0, 0, 1, 0],\n",
       " [0, 1, 0, 0, 1, 0, 0, 1, 0, 1],\n",
       " [0, 0, 0, 1, 1, 0, 1, 1, 0, 0],\n",
       " [0, 1, 0, 0, 0, 0, 0, 1, 1, 1]]"
      ]
     },
     "execution_count": 294,
     "metadata": {},
     "output_type": "execute_result"
    }
   ],
   "source": [
    "def reorganizar_genoma(poblacion, rho):\n",
    "    nueva_poblacion = []\n",
    "    for especie in poblacion:\n",
    "        print(\"Original:\", especie)  # Imprimir la especie original\n",
    "        aleatorio = random.uniform(0, 1)\n",
    "\n",
    "        if aleatorio >= rho:\n",
    "            pos1 = random.randint(0, len(especie) - 1)\n",
    "            pos2 = random.randint(0, len(especie) - 1)\n",
    "\n",
    "            while pos1 == pos2: # Este ciclo es para que no sea la misma posición seleccionada\n",
    "                pos2 = random.randint(0, len(especie) - 1)\n",
    "\n",
    "            print(f\"Posiciones seleccionadas: {pos1} y {pos2}\")\n",
    "\n",
    "            # Intercambiar las posiciones\n",
    "            if pos1 < pos2:\n",
    "                especie.insert(pos1, especie.pop(pos2))\n",
    "            else:\n",
    "                especie.insert(pos1 - 1, especie.pop(pos2))\n",
    "\n",
    "        print(\"Modificado:\", especie)  # Imprimir la especie modificada\n",
    "        nueva_poblacion.append(especie)\n",
    "\n",
    "    return nueva_poblacion\n",
    "\n",
    "\n",
    "#rho = 0\n",
    "poblacion_reorganizada = reorganizar_genoma(poblacion, rho)\n",
    "poblacion_reorganizada"
   ]
  },
  {
   "cell_type": "markdown",
   "id": "e95dc647",
   "metadata": {},
   "source": [
    "### Destruir especie"
   ]
  },
  {
   "cell_type": "code",
   "execution_count": 295,
   "id": "3d77cbf8",
   "metadata": {},
   "outputs": [
    {
     "data": {
      "text/plain": [
       "[[0, 1, 0, 0, 0, 0, 1, 1, 0, 1],\n",
       " [1, 0, 0, 0, 1, 1, 0, 0, 1, 0],\n",
       " [0, 1, 0, 0, 1, 0, 0, 1, 0, 1],\n",
       " [0, 0, 0, 1, 1, 0, 1, 1, 0, 0],\n",
       " [0, 1, 0, 0, 0, 0, 0, 1, 1, 1]]"
      ]
     },
     "execution_count": 295,
     "metadata": {},
     "output_type": "execute_result"
    }
   ],
   "source": [
    "# Tomamos la poblacion_reorganizada\n",
    "# Por cada especie:\n",
    "# Escoger un numero aleario y si es mayor o igual a lambd eliminar la especie \n",
    "\n",
    "def destruir_especies(poblacion_reorganizada, lambd):\n",
    "    nueva_poblacion = []\n",
    "\n",
    "    for especie in poblacion_reorganizada:\n",
    "        aleatorio = random.uniform(0, 1)\n",
    "\n",
    "        if aleatorio < lambd:\n",
    "            # Si el número aleatorio es menor que la probabilidad lambd, se destruye la especie\n",
    "            continue\n",
    "\n",
    "        nueva_poblacion.append(especie)\n",
    "\n",
    "    return nueva_poblacion\n",
    "\n",
    "#lambd = 0.5  \n",
    "nueva_poblacion = destruir_especies(poblacion_reorganizada, lambd)\n",
    "nueva_poblacion\n"
   ]
  },
  {
   "cell_type": "markdown",
   "id": "0cebe86f",
   "metadata": {},
   "source": [
    "### Distancia arco"
   ]
  },
  {
   "cell_type": "code",
   "execution_count": 296,
   "id": "a7cdc506",
   "metadata": {},
   "outputs": [
    {
     "name": "stdout",
     "output_type": "stream",
     "text": [
      "|p1=0 - p2=7| => 7\n",
      "|p1=6 - p2=10| => 4\n",
      "|p1=7 - p2=16| => 9\n",
      "4\n",
      "|p1=2 - p2=9| => 7\n",
      "|p1=3 - p2=12| => 9\n",
      "|p1=7 - p2=13| => 6\n",
      "|p1=9 - p2=17| => 8\n",
      "6\n",
      "|p1=1 - p2=9| => 8\n",
      "|p1=4 - p2=11| => 7\n",
      "|p1=7 - p2=14| => 7\n",
      "|p1=9 - p2=17| => 8\n",
      "7\n",
      "|p1=0 - p2=4| => 4\n",
      "|p1=1 - p2=10| => 9\n",
      "|p1=3 - p2=11| => 8\n",
      "|p1=4 - p2=13| => 9\n",
      "4\n",
      "|p1=2 - p2=9| => 7\n",
      "|p1=6 - p2=12| => 6\n",
      "|p1=7 - p2=16| => 9\n",
      "|p1=9 - p2=17| => 8\n",
      "6\n"
     ]
    }
   ],
   "source": [
    "def posiciones(lista, long):\n",
    "    contador = 1\n",
    "    posiciones_ones = []\n",
    "    for i in range(long):\n",
    "        if lista[i] == 1:\n",
    "            posiciones_ones.append(i)\n",
    "            contador += 1\n",
    "    return posiciones_ones\n",
    "\n",
    "def procesar_posiciones(posiciones_1, long):\n",
    "    p1_idx = 0\n",
    "    p2_idx = -1\n",
    "    diferencias = []\n",
    "\n",
    "    while True:\n",
    "        p1 = posiciones_1[p1_idx]\n",
    "        p2 = posiciones_1[p2_idx]\n",
    "\n",
    "        if p1 > p2:\n",
    "            p2 += long\n",
    "\n",
    "        diferencia = abs(p1 - p2)\n",
    "        diferencias.append(diferencia)\n",
    "        print(f\"|p1={p1} - p2={p2}| => {diferencia}\")\n",
    "\n",
    "        p1_idx += 1\n",
    "        p2_idx += 1\n",
    "\n",
    "        if p1_idx >= len(posiciones_1) or p2_idx >= len(posiciones_1):\n",
    "            break\n",
    "\n",
    "        p2 %= long\n",
    "\n",
    "    return diferencias\n",
    "\n",
    "def distancia_arco(especie, long):\n",
    "    posiciones1 = posiciones(especie, long)\n",
    "    p_posiciones1 = procesar_posiciones(posiciones1, long)\n",
    "    distancia_arco = min(p_posiciones1)\n",
    "    return distancia_arco\n",
    "\n",
    "poblacion = [\n",
    "    [1, 0, 0, 0, 0, 0, 1, 1, 0, 0],\n",
    "    [0, 0, 1, 1, 0, 0, 0, 1, 0, 1],\n",
    "    [0, 1, 0, 0, 1, 0, 0, 1, 0, 1],\n",
    "    [1, 1, 0, 1, 1, 0, 0, 0, 0, 0],\n",
    "    [0, 0, 1, 0, 0, 0, 1, 1, 0, 1]\n",
    "]\n",
    "\n",
    "for especie in poblacion:\n",
    "    print(distancia_arco(especie, len(especie)))\n"
   ]
  },
  {
   "cell_type": "markdown",
   "id": "f1693be7",
   "metadata": {},
   "source": [
    "### Transferencia horizontal"
   ]
  },
  {
   "cell_type": "code",
   "execution_count": 297,
   "id": "2c7bda0c",
   "metadata": {},
   "outputs": [
    {
     "name": "stdout",
     "output_type": "stream",
     "text": [
      "|p1=2 - p2=9| => 7\n",
      "|p1=3 - p2=12| => 9\n",
      "|p1=5 - p2=13| => 8\n",
      "|p1=9 - p2=15| => 6\n",
      "6\n"
     ]
    }
   ],
   "source": [
    "print(distancia_arco([0, 0, 1, 1, 0, 1, 0, 0, 0, 1],len(especie)))"
   ]
  },
  {
   "cell_type": "code",
   "execution_count": 298,
   "id": "7a9d355b",
   "metadata": {},
   "outputs": [],
   "source": [
    "def transferencia_horizontal(nueva_poblacion, tau0, alpha):\n",
    "    if len(nueva_poblacion) < 90:\n",
    "        # Calculamos la probabilidad de transferencia horizontal para cada especie\n",
    "        probabilidades = [tau0 * np.exp(alpha * distancia_arco(especie), len(especie)) for especie in nueva_poblacion]\n",
    "        \n",
    "        for especie in nueva_poblacion:\n",
    "            print(especie)\n",
    "            print(distancia_arco(especie))\n",
    "            \n",
    "\n",
    "        # Para cada especie, comprobamos si se produce la transferencia horizontal\n",
    "        especies_duplicadas = []\n",
    "        for i, especie in enumerate(nueva_poblacion):\n",
    "            aleatorio = random.uniform(0, 1)\n",
    "            if aleatorio >= probabilidades[i]:\n",
    "                # Si la probabilidad es mayor o igual que el número aleatorio, duplicamos la especie\n",
    "                especies_duplicadas.append(especie)\n",
    "\n",
    "        nueva_poblacion += especies_duplicadas\n",
    "    #print('Probabilidades: ', probabilidades)\n",
    "    return nueva_poblacion\n"
   ]
  },
  {
   "cell_type": "code",
   "execution_count": 300,
   "id": "a483f5b0",
   "metadata": {},
   "outputs": [
    {
     "ename": "TypeError",
     "evalue": "transferencia_horizontal() takes 3 positional arguments but 4 were given",
     "output_type": "error",
     "traceback": [
      "\u001b[0;31m---------------------------------------------------------------------------\u001b[0m",
      "\u001b[0;31mTypeError\u001b[0m                                 Traceback (most recent call last)",
      "Cell \u001b[0;32mIn [300], line 1\u001b[0m\n\u001b[0;32m----> 1\u001b[0m poblacion_final \u001b[38;5;241m=\u001b[39m \u001b[43mtransferencia_horizontal\u001b[49m\u001b[43m(\u001b[49m\u001b[43mnueva_poblacion\u001b[49m\u001b[43m,\u001b[49m\u001b[43m \u001b[49m\u001b[43mtau0\u001b[49m\u001b[43m,\u001b[49m\u001b[43m \u001b[49m\u001b[43malpha\u001b[49m\u001b[43m,\u001b[49m\u001b[43m \u001b[49m\u001b[43mlong\u001b[49m\u001b[43m)\u001b[49m\n\u001b[1;32m      2\u001b[0m poblacion_final\n",
      "\u001b[0;31mTypeError\u001b[0m: transferencia_horizontal() takes 3 positional arguments but 4 were given"
     ]
    }
   ],
   "source": [
    "poblacion_final = transferencia_horizontal(nueva_poblacion, tau0, alpha)\n",
    "poblacion_final"
   ]
  },
  {
   "cell_type": "markdown",
   "id": "33c5aa38",
   "metadata": {},
   "source": [
    "### Distancia *i* promedio"
   ]
  },
  {
   "cell_type": "code",
   "execution_count": 301,
   "id": "f24b0e2b",
   "metadata": {},
   "outputs": [
    {
     "ename": "IndexError",
     "evalue": "list index out of range",
     "output_type": "error",
     "traceback": [
      "\u001b[0;31m---------------------------------------------------------------------------\u001b[0m",
      "\u001b[0;31mIndexError\u001b[0m                                Traceback (most recent call last)",
      "Cell \u001b[0;32mIn [301], line 10\u001b[0m\n\u001b[1;32m      7\u001b[0m     promedio_i \u001b[38;5;241m=\u001b[39m suma_i \u001b[38;5;241m/\u001b[39m num_especies\n\u001b[1;32m      8\u001b[0m     \u001b[38;5;28;01mreturn\u001b[39;00m promedio_i\n\u001b[0;32m---> 10\u001b[0m promedio \u001b[38;5;241m=\u001b[39m \u001b[43mpromedio_i\u001b[49m\u001b[43m(\u001b[49m\u001b[43mpoblacion_final\u001b[49m\u001b[43m)\u001b[49m\n\u001b[1;32m     11\u001b[0m \u001b[38;5;28mprint\u001b[39m(promedio)\n",
      "Cell \u001b[0;32mIn [301], line 5\u001b[0m, in \u001b[0;36mpromedio_i\u001b[0;34m(poblacion)\u001b[0m\n\u001b[1;32m      3\u001b[0m num_especies \u001b[38;5;241m=\u001b[39m \u001b[38;5;28mlen\u001b[39m(poblacion)\n\u001b[1;32m      4\u001b[0m \u001b[38;5;28;01mfor\u001b[39;00m especie \u001b[38;5;129;01min\u001b[39;00m poblacion:\n\u001b[0;32m----> 5\u001b[0m     distancia_arco_especie \u001b[38;5;241m=\u001b[39m \u001b[43mdistancia_arco\u001b[49m\u001b[43m(\u001b[49m\u001b[43mespecie\u001b[49m\u001b[43m,\u001b[49m\u001b[43m \u001b[49m\u001b[43mlong\u001b[49m\u001b[43m)\u001b[49m\n\u001b[1;32m      6\u001b[0m     suma_i \u001b[38;5;241m+\u001b[39m\u001b[38;5;241m=\u001b[39m distancia_arco_especie\n\u001b[1;32m      7\u001b[0m promedio_i \u001b[38;5;241m=\u001b[39m suma_i \u001b[38;5;241m/\u001b[39m num_especies\n",
      "Cell \u001b[0;32mIn [296], line 37\u001b[0m, in \u001b[0;36mdistancia_arco\u001b[0;34m(especie, long)\u001b[0m\n\u001b[1;32m     36\u001b[0m \u001b[38;5;28;01mdef\u001b[39;00m \u001b[38;5;21mdistancia_arco\u001b[39m(especie, long):\n\u001b[0;32m---> 37\u001b[0m     posiciones1 \u001b[38;5;241m=\u001b[39m \u001b[43mposiciones\u001b[49m\u001b[43m(\u001b[49m\u001b[43mespecie\u001b[49m\u001b[43m,\u001b[49m\u001b[43m \u001b[49m\u001b[43mlong\u001b[49m\u001b[43m)\u001b[49m\n\u001b[1;32m     38\u001b[0m     p_posiciones1 \u001b[38;5;241m=\u001b[39m procesar_posiciones(posiciones1, long)\n\u001b[1;32m     39\u001b[0m     distancia_arco \u001b[38;5;241m=\u001b[39m \u001b[38;5;28mmin\u001b[39m(p_posiciones1)\n",
      "Cell \u001b[0;32mIn [296], line 5\u001b[0m, in \u001b[0;36mposiciones\u001b[0;34m(lista, long)\u001b[0m\n\u001b[1;32m      3\u001b[0m posiciones_ones \u001b[38;5;241m=\u001b[39m []\n\u001b[1;32m      4\u001b[0m \u001b[38;5;28;01mfor\u001b[39;00m i \u001b[38;5;129;01min\u001b[39;00m \u001b[38;5;28mrange\u001b[39m(long):\n\u001b[0;32m----> 5\u001b[0m     \u001b[38;5;28;01mif\u001b[39;00m \u001b[43mlista\u001b[49m\u001b[43m[\u001b[49m\u001b[43mi\u001b[49m\u001b[43m]\u001b[49m \u001b[38;5;241m==\u001b[39m \u001b[38;5;241m1\u001b[39m:\n\u001b[1;32m      6\u001b[0m         posiciones_ones\u001b[38;5;241m.\u001b[39mappend(i)\n\u001b[1;32m      7\u001b[0m         contador \u001b[38;5;241m+\u001b[39m\u001b[38;5;241m=\u001b[39m \u001b[38;5;241m1\u001b[39m\n",
      "\u001b[0;31mIndexError\u001b[0m: list index out of range"
     ]
    }
   ],
   "source": [
    "def promedio_i(poblacion):\n",
    "    suma_i = 0\n",
    "    num_especies = len(poblacion)\n",
    "    for especie in poblacion:\n",
    "        distancia_arco_especie = distancia_arco(especie, long)\n",
    "        suma_i += distancia_arco_especie\n",
    "    promedio_i = suma_i / num_especies\n",
    "    return promedio_i\n",
    "\n",
    "promedio = promedio_i(poblacion_final)\n",
    "print(promedio)\n"
   ]
  },
  {
   "cell_type": "markdown",
   "id": "d16f553f",
   "metadata": {},
   "source": [
    "### Correccion de traslocación"
   ]
  },
  {
   "cell_type": "code",
   "execution_count": 137,
   "id": "25de1bdc",
   "metadata": {},
   "outputs": [
    {
     "data": {
      "text/plain": [
       "[[1, 0, 0, 0, 0, 1, 1, 1, 0, 0],\n",
       " [0, 0, 1, 1, 0, 0, 0, 1, 0, 1],\n",
       " [0, 1, 0, 0, 1, 0, 0, 1, 0, 1],\n",
       " [1, 1, 0, 1, 1, 0, 0, 0, 0, 0],\n",
       " [0, 0, 1, 0, 0, 0, 1, 1, 0, 1]]"
      ]
     },
     "execution_count": 137,
     "metadata": {},
     "output_type": "execute_result"
    }
   ],
   "source": [
    "# Se hizo la correccion en la probabilidad rho\n",
    "# Ahora es rho*(g/M)\n",
    "\n",
    "def reorganizar_genoma(poblacion, rho):\n",
    "    nueva_poblacion = []\n",
    "    for especie in poblacion:\n",
    "        aleatorio = random.uniform(0, 1)\n",
    "\n",
    "        if aleatorio >= rho*(g / M):\n",
    "            pos1 = random.randint(0, len(especie)-1)\n",
    "            pos2 = random.randint(0, len(especie)-1)\n",
    "\n",
    "            while pos1 == pos2: # Este ciclo es para que no sea la misma posicion seleccionada\n",
    "                pos2 = random.randint(0, len(especie) - 1)\n",
    "\n",
    "            especie[pos1], especie[pos2] = especie[pos2], especie[pos1]\n",
    "\n",
    "        nueva_poblacion.append(especie)\n",
    "\n",
    "    return nueva_poblacion\n",
    "\n",
    "#rho = 0\n",
    "poblacion_reorganizada = reorganizar_genoma(poblacion, rho)\n",
    "poblacion_reorganizada"
   ]
  },
  {
   "cell_type": "markdown",
   "id": "5f0a7190",
   "metadata": {},
   "source": [
    "### Versión con inversión"
   ]
  },
  {
   "cell_type": "code",
   "execution_count": 138,
   "id": "70f2e7f6",
   "metadata": {},
   "outputs": [
    {
     "data": {
      "text/plain": [
       "[1, 0, 0, 0, 0, 1, 1, 1, 0, 0]"
      ]
     },
     "execution_count": 138,
     "metadata": {},
     "output_type": "execute_result"
    }
   ],
   "source": [
    "def inversion_viable(a, b):\n",
    "    return ((0 < a < M / 2 and 0 < b < M / 2) or\n",
    "            (M / 2 < a < M and M / 2 < b < M) or\n",
    "            (M - e < a + b < M + e))\n",
    "    \n",
    "def realizar_inversion(genoma):\n",
    "    a = random.randint(1, M)\n",
    "    b = random.randint(1, M)\n",
    "    a -= 0.5\n",
    "    b -= 0.5\n",
    "    if inversion_viable(a, b):\n",
    "        genoma_modificado = genoma.copy()\n",
    "        for i in range(len(genoma)):\n",
    "            if a < genoma[i] < b:\n",
    "                genoma_modificado[i] = a + b - genoma[i]\n",
    "        return genoma_modificado\n",
    "    else:\n",
    "        print('Inversión no viable')\n",
    "        return genoma\n",
    "\n",
    "                \n",
    "inversion = realizar_inversion(poblacion_reorganizada[0]) \n",
    "inversion"
   ]
  },
  {
   "cell_type": "code",
   "execution_count": null,
   "id": "23bfa246",
   "metadata": {},
   "outputs": [],
   "source": []
  },
  {
   "cell_type": "markdown",
   "id": "15f08a04",
   "metadata": {},
   "source": [
    "### Primera Simulación"
   ]
  },
  {
   "cell_type": "code",
   "execution_count": 139,
   "id": "21e54df1",
   "metadata": {},
   "outputs": [],
   "source": [
    "M = 5000 #kb. Tamaño del genoma\n",
    "g = 3 # Genes en la via de interes\n",
    "num_especies = 100 #Num de especies para iniciar la poblacion\n",
    "\n",
    "# Reorganizar el genoma por cada especie\n",
    "rho = 0.01 # probabilidad de reacomodo\n",
    "\n",
    "# Destruir función de especie positiva \n",
    "lambd = 0.001 # probabilidad de perdida de la funcion\n",
    "\n",
    "# Transferencia horizontal\n",
    "tau0 = 0.01 # probabilidad maxima de transferencia horizontal\n",
    "alpha = 0.004\n",
    "\n",
    "#Simulación\n",
    "num_iteraciones = 50\n",
    "\n",
    "e = 25 #kb.  tolerancia al equilibrio entre el origen y el término "
   ]
  },
  {
   "cell_type": "code",
   "execution_count": 141,
   "id": "6060721c",
   "metadata": {},
   "outputs": [
    {
     "data": {
      "image/png": "[encoded data removed]",
      "text/plain": [
       "<Figure size 640x480 with 1 Axes>"
      ]
     },
     "metadata": {},
     "output_type": "display_data"
    }
   ],
   "source": [
    "\n",
    "# Lista para almacenar el promedio de i en cada iteración\n",
    "promedios = []\n",
    "\n",
    "for i in range(num_iteraciones):\n",
    "    # Inicializar la población\n",
    "    poblacion = inicializar_poblacion(M, num_especies, g)\n",
    "\n",
    "    # Reorganizar el genoma\n",
    "    poblacion_reorganizada = reorganizar_genoma(poblacion, rho)\n",
    "\n",
    "    # Destruir especies\n",
    "    nueva_poblacion = destruir_especies(poblacion_reorganizada, lambd)\n",
    "\n",
    "    # Transferencia horizontal\n",
    "    poblacion_final = transferencia_horizontal(nueva_poblacion, tau0, alpha,long)\n",
    "\n",
    "    # Calcular el promedio de i\n",
    "    promedio = promedio_i(poblacion_final)\n",
    "\n",
    "    # Agregar el promedio a la lista\n",
    "    promedios.append(promedio)\n",
    "\n",
    "# Graficar los resultados\n",
    "plt.plot(promedios)\n",
    "plt.xlabel('Iteraciones')\n",
    "plt.ylabel('Promedio de i')\n",
    "plt.title('Simulación del algoritmo genético')\n",
    "plt.show()\n"
   ]
  },
  {
   "cell_type": "markdown",
   "id": "68c858c4",
   "metadata": {},
   "source": [
    "### Simulación corregida"
   ]
  },
  {
   "cell_type": "markdown",
   "id": "45ec459f",
   "metadata": {},
   "source": [
    "### Simulación inversión"
   ]
  },
  {
   "cell_type": "code",
   "execution_count": null,
   "id": "dc1f94a3",
   "metadata": {},
   "outputs": [],
   "source": []
  },
  {
   "cell_type": "markdown",
   "id": "4f55814c",
   "metadata": {},
   "source": [
    "### Reorganizar 2.0"
   ]
  },
  {
   "cell_type": "code",
   "execution_count": 176,
   "id": "23c3aa33",
   "metadata": {},
   "outputs": [
    {
     "data": {
      "text/plain": [
       "[[0, 0, 0, 0, 1, 1, 0, 0, 0, 1],\n",
       " [1, 0, 0, 0, 1, 1, 0, 0, 0, 0],\n",
       " [1, 0, 0, 0, 0, 0, 1, 0, 0, 1]]"
      ]
     },
     "execution_count": 176,
     "metadata": {},
     "output_type": "execute_result"
    }
   ],
   "source": [
    "# Misma funcion de reorganizar, con cambios en escoger posiciones:\n",
    "# En una posicion tiene un 1 y otra tiene un 0\n",
    "# De esta manera siempre veremos un cambio \n",
    "\n",
    "def reorganizar_genoma(poblacion, rho):\n",
    "    nueva_poblacion = []\n",
    "\n",
    "    for especie in poblacion:\n",
    "        aleatorio = random.uniform(0, 1)\n",
    "\n",
    "        if aleatorio >= rho:\n",
    "            pos1 = None\n",
    "            pos2 = None\n",
    "\n",
    "            # Se elige una primera posición con un 1\n",
    "            while pos1 is None:\n",
    "                pos1 = random.randint(0, len(especie)-1)\n",
    "                if especie[pos1] != 1:\n",
    "                    pos1 = None\n",
    "\n",
    "            # Se elige una segunda posición con un 0 distinta de la primera\n",
    "            while pos2 is None or pos2 == pos1:\n",
    "                pos2 = random.randint(0, len(especie)-1)\n",
    "                if especie[pos2] != 0:\n",
    "                    pos2 = None\n",
    "\n",
    "            especie[pos1], especie[pos2] = especie[pos2], especie[pos1]\n",
    "\n",
    "        nueva_poblacion.append(especie)\n",
    "\n",
    "    return nueva_poblacion\n",
    "\n",
    "rho = 0\n",
    "poblacion_reorganizada = reorganizar_genoma(poblacion, rho)\n",
    "poblacion_reorganizada\n"
   ]
  },
  {
   "cell_type": "markdown",
   "id": "273a31da",
   "metadata": {},
   "source": [
    "### Para calcular el max intervalo entre vecinos"
   ]
  },
  {
   "cell_type": "code",
   "execution_count": 239,
   "id": "e7eacf31",
   "metadata": {},
   "outputs": [],
   "source": [
    "# Intervalo más largo entre pares de genes vecinos\n",
    "\n",
    "def max_intervalo(especie):\n",
    "    intervalos = [0] * (len(especie) - 1)\n",
    "    for i in range(len(especie) - 1):\n",
    "        if especie[i] == 1 and especie[i+1] == 1:\n",
    "            intervalos[i] = 0\n",
    "        elif especie[i] == 0 and especie[i+1] == 0:\n",
    "            intervalos[i] = 0\n",
    "        else:\n",
    "            intervalos[i] = 1\n",
    "\n",
    "    max_interval = max(sum(intervalos[:i+1]), sum(intervalos[i:]))\n",
    "    return max_interval"
   ]
  }
 ],
 "metadata": {
  "kernelspec": {
   "display_name": "Python 3 (ipykernel)",
   "language": "python",
   "name": "python3"
  },
  "language_info": {
   "codemirror_mode": {
    "name": "ipython",
    "version": 3
   },
   "file_extension": ".py",
   "mimetype": "text/x-python",
   "name": "python",
   "nbconvert_exporter": "python",
   "pygments_lexer": "ipython3",
   "version": "3.9.7"
  }
 },
 "nbformat": 4,
 "nbformat_minor": 5
}
